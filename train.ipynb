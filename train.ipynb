{
 "cells": [
  {
   "cell_type": "code",
   "execution_count": 1,
   "id": "8069181b-3988-446d-9c8c-3fa434a164ad",
   "metadata": {},
   "outputs": [
    {
     "name": "stdout",
     "output_type": "stream",
     "text": [
      "Namespace(epoch=0, n_epochs=100, batchSize=16, dataroot='data/', lr=0.0002, decay_epoch=50, cuda=True, GPU_id=[4, 5, 6, 7], n_cpu=10, net='output/net_smcswt.pth')\n"
     ]
    }
   ],
   "source": [
    "#!/usr/bin/python3\n",
    "\n",
    "import argparse\n",
    "import itertools\n",
    "from torch.utils.data import DataLoader\n",
    "from torch.autograd import Variable\n",
    "import torch\n",
    "from tqdm import tqdm\n",
    "import torch.nn as nn\n",
    "import time\n",
    "import matplotlib.pyplot as plt\n",
    "from models.network import SMCSWT\n",
    "from models.utils import LambdaLR\n",
    "from models.utils import weights_init_normal\n",
    "from models.utils import batch_PSNR\n",
    "from models.datasets import Art_nosie_Dataset\n",
    "import warnings\n",
    "warnings.filterwarnings(\"ignore\", category=UserWarning) \n",
    "\n",
    "parser = argparse.ArgumentParser()\n",
    "parser.add_argument('--epoch', type=int, default=0, help='starting epoch')\n",
    "parser.add_argument('--n_epochs', type=int, default=100, help='number of epochs of training')\n",
    "parser.add_argument('--batchSize', type=int, default=4, help='size of the batches')\n",
    "parser.add_argument('--dataroot', type=str, default='data/', help='root directory of the dataset')\n",
    "parser.add_argument('--lr', type=float, default=0.0002, help='initial learning rate')\n",
    "parser.add_argument('--decay_epoch', type=int, default=50, help='epoch to start linearly decaying the learning rate to 0')\n",
    "parser.add_argument('--cuda', action='store_true', default=True, help='use GPU computation')\n",
    "parser.add_argument('--GPU_id', type=str, default=[0], help='Id of GPUs')\n",
    "parser.add_argument('--n_cpu', type=int, default=10, help='number of cpu threads to use during batch generation')\n",
    "parser.add_argument('--net', type=str, default='output/net_smcswt.pth', help='A2B generator checkpoint file')\n",
    "opt = parser.parse_known_args()[0]\n",
    "print(opt)\n",
    "\n",
    "if torch.cuda.is_available() and not opt.cuda:\n",
    "    print(\"WARNING: You have a CUDA device, so you should probably run with --cuda\")"
   ]
  },
  {
   "cell_type": "code",
   "execution_count": null,
   "id": "e79125f1-2ba5-4158-8276-3241835a9148",
   "metadata": {
    "scrolled": true
   },
   "outputs": [
    {
     "name": "stdout",
     "output_type": "stream",
     "text": [
      "Total Number of Parameters: 1363133\n",
      "641\n"
     ]
    },
    {
     "name": "stderr",
     "output_type": "stream",
     "text": [
      "  0%|                                                            | 0/641 [00:00<?, ?batch/s]/home/hls/anaconda3/envs/HLS_env/lib/python3.9/site-packages/torch/nn/parallel/parallel_apply.py:79: FutureWarning: `torch.cuda.amp.autocast(args...)` is deprecated. Please use `torch.amp.autocast('cuda', args...)` instead.\n",
      "  with torch.cuda.device(device), torch.cuda.stream(stream), autocast(enabled=autocast_enabled):\n",
      "[1/100] Psnr:28.0337 Loss:538.8910:   1%|▏               | 6/641 [00:05<07:52,  1.34batch/s]"
     ]
    }
   ],
   "source": [
    "###### Definition of variables ######\n",
    "# Networks\n",
    "Net = SMCSWT(window_size1=[8,8], depth1=[1,1], \n",
    "                 window_size2=[16,16,16], depth2=[1,1,1], \n",
    "                 window_size3=[32,32,32,32], depth3=[1,1,1,1])\n",
    "\n",
    "\n",
    "device_index = opt.GPU_id[0]  \n",
    "device = torch.device(f'cuda:{device_index}')\n",
    "device_ids = opt.GPU_id\n",
    "if opt.cuda:\n",
    "    Net.to(device)\n",
    "    Net = nn.DataParallel(Net, device_ids=device_ids)\n",
    "Net.apply(weights_init_normal)\n",
    "\n",
    "\n",
    "pytorch_total_params = sum(p.numel() for p in Net.parameters() if p.requires_grad)\n",
    "print('Total Number of Parameters:', pytorch_total_params)\n",
    "\n",
    "\n",
    "# Lossess\n",
    "criterion = torch.nn.MSELoss(reduction='sum')\n",
    "\n",
    "\n",
    "# Optimizers & LR schedulers\n",
    "optimizer = torch.optim.Adam(itertools.chain(Net.parameters()),lr=opt.lr, betas=(0.85, 0.999))\n",
    "lr_scheduler = torch.optim.lr_scheduler.LambdaLR(optimizer, lr_lambda=LambdaLR(opt.n_epochs, opt.epoch, opt.decay_epoch).step)\n",
    "\n",
    "# Dataset loader\n",
    "dataloader = DataLoader(Art_nosie_Dataset(opt.dataroot), \n",
    "                        batch_size=opt.batchSize, shuffle=True, num_workers=opt.n_cpu)\n",
    "print(len(dataloader))\n",
    "\n",
    "\n",
    "train_losses = []\n",
    "test_losses = []\n",
    "\n",
    "###### Training ######\n",
    "for epoch in range(opt.epoch, opt.n_epochs):\n",
    "    loss_sigma = 0\n",
    "    All_psnr = 0\n",
    "    batch_sizes = 0\n",
    "    with tqdm(dataloader, unit='batch', dynamic_ncols=True) as tepoch:\n",
    "        for i, batch in enumerate(tepoch):\n",
    "            # Set model input\n",
    "            clean = Variable(batch['A'].to(device))\n",
    "            noise = Variable(batch['B'].to(device))\n",
    "    \n",
    "            ###### Model A ######\n",
    "            Net.train()\n",
    "            Net.zero_grad()\n",
    "            optimizer.zero_grad()\n",
    "               \n",
    "            out = Net(noise)\n",
    "            loss = criterion(out, clean) / (clean.size()[0] * 2)\n",
    "            loss.backward()\n",
    "            optimizer.step()          \n",
    "            ###### Psnr ########\n",
    "            batch_sizes += 1         \n",
    "            loss_sigma += loss.item()\n",
    "            psnr = batch_PSNR(out, clean, 3)\n",
    "            All_psnr += psnr\n",
    "            desc1 = '[%d/%d]' % (epoch+1, opt.n_epochs)\n",
    "            desc2 = 'Psnr:%.4f' % (All_psnr / batch_sizes)\n",
    "            desc3 = 'Loss:%.4f' % (loss_sigma / batch_sizes)\n",
    "            tepoch.set_description(desc1 + ' ' + desc2 + ' ' + desc3)\n",
    "            time.sleep(0.1)\n",
    "            \n",
    "    lr_scheduler.step()\n",
    "\n",
    "    torch.save(Net.state_dict(), 'output/net_smcswt.pth')"
   ]
  },
  {
   "cell_type": "code",
   "execution_count": null,
   "id": "0ff2bebc-87a7-48b4-b802-35981c54e587",
   "metadata": {},
   "outputs": [],
   "source": []
  }
 ],
 "metadata": {
  "kernelspec": {
   "display_name": "HLS_env",
   "language": "python",
   "name": "hls_env"
  },
  "language_info": {
   "codemirror_mode": {
    "name": "ipython",
    "version": 3
   },
   "file_extension": ".py",
   "mimetype": "text/x-python",
   "name": "python",
   "nbconvert_exporter": "python",
   "pygments_lexer": "ipython3",
   "version": "3.9.19"
  }
 },
 "nbformat": 4,
 "nbformat_minor": 5
}
